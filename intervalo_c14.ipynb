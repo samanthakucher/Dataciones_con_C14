{
 "cells": [
  {
   "cell_type": "code",
   "execution_count": 1,
   "metadata": {
    "collapsed": true
   },
   "outputs": [],
   "source": [
    "import numpy as np\n",
    "from scipy.stats import poisson\n",
    "import matplotlib.pyplot as plt\n",
    "%matplotlib inline"
   ]
  },
  {
   "cell_type": "markdown",
   "metadata": {},
   "source": [
    "Se tiene una muetra cuya edad se quiere determinar. Para eso, se mide la concentración de $^{14}C$ radiactivo presente en la muestra, $\\frac{^{14}C}{^{12}C}$,  (\"a tiempo $t$\") y la cantidad STD (\"a tiempo 0\"). Se define $$R_{14}=\\frac{^{14}C(t)}{^{14}C(0)} = \\frac{\\frac{^{14}C(t)}{^{12}C}}{\\frac{^{14}C(0)}{^{12}C}} = \\frac{R(t)}{R_0}$$ donde $^{14}C$ fueron medidos con un detector, y por lo tanto tienen distribución poissoniana, y $^{12}C$ se determinan a partir de la corriente (que suponemos constante en el tiempo), y se consideran magnitudes sin error (por ahora). \n",
    "\n",
    "Duda: ¿cómo se mide el $^{12}C$?",
    "\n",
    "\n",
    "Por lo tanto, la distribución de $R_{14}$ es el cociente de dos poissonianas. Simulamos este experimento."
   ]
  },
  {
   "cell_type": "code",
   "execution_count": 41,
   "metadata": {
    "collapsed": false
   },
   "outputs": [],
   "source": [
    "num_muestras = int(1e6)\n",
    "mu1, mu0 = 10, 15\n",
    "ct = poisson.rvs(mu1, size=num_muestras)\n",
    "c0 = poisson.rvs(mu0, size=num_muestras)\n",
    "    \n",
    "R = np.array(ct, dtype=float)/np.array(c0,dtype=float)"
   ]
  },
  {
   "cell_type": "code",
   "execution_count": 42,
   "metadata": {
    "collapsed": false
   },
   "outputs": [
    {
     "data": {
      "text/plain": [
       "True"
      ]
     },
     "execution_count": 42,
     "metadata": {},
     "output_type": "execute_result"
    }
   ],
   "source": [
    "#Elimino los infinitos\n",
    "mask = (R != np.float('+inf'))\n",
    "R = R[mask]\n",
    "\n",
    "# Verifico que para todos los elementos sea cierto que no son +inf\n",
    "np.all(R != np.float('+inf'))"
   ]
  },
  {
   "cell_type": "code",
   "execution_count": 43,
   "metadata": {
    "collapsed": false
   },
   "outputs": [
    {
     "data": {
      "image/png": "[encoded data removed]",
      "text/plain": [
       "<matplotlib.figure.Figure at 0xe3903c8>"
      ]
     },
     "metadata": {},
     "output_type": "display_data"
    }
   ],
   "source": [
    "fig = plt.figure(figsize=(20,10))\n",
    "ax1 = fig.add_subplot(1, 1, 1)\n",
    "\n",
    "bines = np.linspace(0,4,300)\n",
    "numero, bins = np.histogram(R, bins = bines)\n",
    "error = (np.sqrt(numero) / (np.diff(bins) * np.sum(numero)))\n",
    "numero = numero / (np.diff(bins) * np.sum(numero)) #normalizo el area\n",
    "ax1.bar(bins[:-1], numero, width = np.diff(bins),  yerr=error, ecolor=\"b\", color='dodgerblue', alpha=0.5)\n",
    "#ax1.set_xlabel('k')\n",
    "#ax1.set_ylabel('P(k)')\n",
    "ax1.grid()"
   ]
  },
  {
   "cell_type": "code",
   "execution_count": 53,
   "metadata": {
    "collapsed": false
   },
   "outputs": [],
   "source": [
    "def esp(b,n):\n",
    "    return np.sum(np.diff(b)*n*b[:-1])\n",
    "\n",
    "#esperanza = esp(bines, numero)\n",
    "\n",
    "def lado_izq(hasta, bines, numero, bins):\n",
    "    cerca = np.argmax([x for x in bines if x < hasta])\n",
    "    return np.sum(np.diff(bins[:cerca]) * (numero[:cerca-1]))\n",
    "\n",
    "def lado_der(desde, bines, numero, bins):\n",
    "    cerca = np.argmax([x for x in bines if x >= desde])\n",
    "    return np.sum(np.diff(bins[cerca:]) * (numero[cerca:]))\n",
    "\n"
   ]
  },
  {
   "cell_type": "markdown",
   "metadata": {},
   "source": [
    "Supongamos que se mide $R_{medido}$. La variable $R_{14}$ esta descripta por la función $$R_{14}=e^{-\\frac{ln(2)}{T_{1/2}}t}$$ donde $\\tau=\\frac{T_{1/2}}{ln(2)}$ es la vida media, $T_{1/2}=5730$ años, y $t$ es la edad que queremos determinar. \n",
    "\n",
    "$P(a \\leq t \\leq b) = 0.68$\n",
    "\n",
    "$P(a \\leq -\\frac{T_{1/2}}{ln(2)}ln(R_{14})\\leq b) = 0.68$\n",
    "\n",
    "$P(\\exp(\\frac{ln(2)}{T_{1/2}}a) \\leq R_{14} \\leq \\exp(\\frac{ln(2)}{T_{1/2}}b)) = 0.68$\n",
    "\n",
    "$P(a' \\leq R_{14} \\leq b')=0.68)$\n",
    "\n",
    "Para eso, \"movemos\" la distribución cambiando el $\\mu$ de $^{14}C(t)$, y buscamos que la integral entre 0 y $R_{medido}$ sea 0.16 si movemos la distrtibución para la izquierda, y que la integral entre $R_{medido}$  e infinito sea 0.16 si movemos la distrtibución para la derecha. Para mover la distribución movemos el $\\mu_1$ del conteo de $^{14}C(t)$. Si $\\mu_1$ es más chico, la distribución de $R_{14}$ se mueve para la izquierda $\\Rightarrow$ Calculamos la integral del lado derecho.\n",
    "\n",
    "Obs.: La distribución de $R_{14}$ queda muy rara para algunos valores de $\\mu$, y además habría que ir cambiando el valor máximo del vector `bines`."
   ]
  },
  {
   "cell_type": "code",
   "execution_count": 55,
   "metadata": {
    "collapsed": true
   },
   "outputs": [],
   "source": [
    "R_medido = 2 #Supongamos que se mide esto"
   ]
  },
  {
   "cell_type": "markdown",
   "metadata": {},
   "source": [
    "Seguro hay una forma muchisimo mas eficiente de hacer esto:"
   ]
  },
  {
   "cell_type": "code",
   "execution_count": 56,
   "metadata": {
    "collapsed": false
   },
   "outputs": [
    {
     "name": "stdout",
     "output_type": "stream",
     "text": [
      "(0, 0.0)\n"
     ]
    },
    {
     "name": "stderr",
     "output_type": "stream",
     "text": [
      "C:\\Users\\Mario\\AppData\\Local\\Enthought\\Canopy\\User\\lib\\site-packages\\ipykernel\\__main__.py:7: RuntimeWarning: divide by zero encountered in divide\n"
     ]
    },
    {
     "name": "stdout",
     "output_type": "stream",
     "text": [
      "(1, 2.0000020000019998e-06)\n",
      "(2, 1.0000000000000003e-05)\n",
      "(3, 3.7000074000148001e-05)\n",
      "(4, 0.000119000119000119)\n",
      "(5, 0.00026500212001696015)\n",
      "(6, 0.00060300542704884344)\n",
      "(7, 0.0012050241004820097)\n",
      "(8, 0.0021020861855336071)\n",
      "(9, 0.0037511425434166501)\n",
      "(10, 0.0061935326438073684)\n",
      "(11, 0.0096742189515878988)\n",
      "(12, 0.014377889955881133)\n",
      "(13, 0.021400955310475905)\n",
      "(14, 0.030205659384522431)\n",
      "(15, 0.041103963610785089)\n",
      "(16, 0.055034063511158839)\n",
      "(17, 0.071111983252220873)\n",
      "(18, 0.090906450465969929)\n",
      "(19, 0.11378701835924232)\n",
      "(20, 0.14077666982206746)\n",
      "(21, 0.16931126650721115)\n",
      "(22, 0.20074899143320957)\n",
      "(23, 0.23602546950600023)\n",
      "(24, 0.27340119852179628)\n",
      "(25, 0.31130832753763332)\n",
      "(26, 0.35172610487095934)\n",
      "(27, 0.39154887855710291)\n",
      "(28, 0.43346475043302513)\n",
      "(29, 0.47464764128825832)\n",
      "(30, 0.5160932957764971)\n",
      "(31, 0.55585110220234357)\n",
      "(32, 0.5953698193257011)\n",
      "(33, 0.63263783606687385)\n",
      "(34, 0.66763866764811819)\n",
      "(35, 0.7009359158226548)\n",
      "(36, 0.73232002137037533)\n",
      "(37, 0.76192711233108468)\n",
      "(38, 0.78809500942934974)\n",
      "(39, 0.8130078155654763)\n",
      "(40, 0.83597096054694631)\n",
      "(41, 0.85636906858123063)\n",
      "(42, 0.87467199324254152)\n",
      "(43, 0.89120246447456175)\n",
      "(44, 0.9056367362261869)\n",
      "(45, 0.91873637094697747)\n",
      "(46, 0.92994490608623948)\n",
      "(47, 0.93963487881577901)\n",
      "(48, 0.94825843717600233)\n",
      "(49, 0.95647980598074023)\n"
     ]
    }
   ],
   "source": [
    "mu_chicos = np.arange(0,50,1)\n",
    "for mu in mu_chicos:\n",
    "    ct = poisson.rvs(mu, size=num_muestras) #simulamos\n",
    "    c0 = poisson.rvs(mu0, size=num_muestras)    \n",
    "    R = np.array(ct, dtype=float)/np.array(c0,dtype=float)\n",
    "    mask = (R != np.float('+inf'))\n",
    "    R = R[mask]\n",
    "    bines = np.linspace(0,4,300)\n",
    "    numero, bins = np.histogram(R, bins = bines)\n",
    "    numero = numero / (np.diff(bins) * np.sum(numero)) #normalizo el area\n",
    "    #esperanza = esp(bines, numero)\n",
    "    lado01 = lado_der(R_medido, bines, numero, bins)\n",
    "    print(mu, lado01)"
   ]
  },
  {
   "cell_type": "markdown",
   "metadata": {},
   "source": [
    "$\\mu_{min}\\approx 21 \\rightarrow$ Correspondiente al conteo de $^{14}C(t)$ "
   ]
  },
  {
   "cell_type": "code",
   "execution_count": 57,
   "metadata": {
    "collapsed": false
   },
   "outputs": [
    {
     "name": "stdout",
     "output_type": "stream",
     "text": [
      "(10, 0.99386854627242416)\n",
      "(11, 0.99031971252176532)\n",
      "(12, 0.98535899859471177)\n",
      "(13, 0.97879318933387727)\n",
      "(14, 0.96990435983112899)\n",
      "(15, 0.95880048628934222)\n",
      "(16, 0.94497106031444811)\n",
      "(17, 0.9283770633604842)\n",
      "(18, 0.90862051350880324)\n",
      "(19, 0.88549778972802284)\n",
      "(20, 0.85877639436986986)\n",
      "(21, 0.83042358974873665)\n",
      "(22, 0.7981715440897208)\n",
      "(23, 0.76374703010233946)\n"
     ]
    },
    {
     "name": "stderr",
     "output_type": "stream",
     "text": [
      "C:\\Users\\Mario\\AppData\\Local\\Enthought\\Canopy\\User\\lib\\site-packages\\ipykernel\\__main__.py:5: RuntimeWarning: divide by zero encountered in divide\n"
     ]
    },
    {
     "name": "stdout",
     "output_type": "stream",
     "text": [
      "(24, 0.72792762657440313)\n",
      "(25, 0.68802938189395302)\n",
      "(26, 0.64825881669747287)\n",
      "(27, 0.607783796287372)\n",
      "(28, 0.56652626009808105)\n",
      "(29, 0.52445182561374692)\n",
      "(30, 0.48422752722574292)\n",
      "(31, 0.44383558254889105)\n",
      "(32, 0.40458766743141611)\n",
      "(33, 0.36765363880136553)\n",
      "(34, 0.33219962510927303)\n",
      "(35, 0.29905220798475063)\n",
      "(36, 0.26738290203554321)\n",
      "(37, 0.23823932786902949)\n",
      "(38, 0.21187510570622672)\n",
      "(39, 0.18657956418582106)\n",
      "(40, 0.16431183817676828)\n",
      "(41, 0.14378687206783322)\n",
      "(42, 0.12542230947484251)\n",
      "(43, 0.10928661689493376)\n",
      "(44, 0.094475178415785011)\n",
      "(45, 0.081428065504903099)\n",
      "(46, 0.070027323969622315)\n",
      "(47, 0.060131129299410196)\n",
      "(48, 0.051864558804109215)\n",
      "(49, 0.043854181220243545)\n",
      "(50, 0.037102853471783735)\n",
      "(51, 0.031396616947073054)\n",
      "(52, 0.026451199119074325)\n",
      "(53, 0.022658184923004261)\n",
      "(54, 0.019040475525441178)\n",
      "(55, 0.016050934315387462)\n",
      "(56, 0.013282142446753142)\n",
      "(57, 0.01118485807073041)\n",
      "(58, 0.0093411554826172086)\n",
      "(59, 0.0075679840706141741)\n",
      "(60, 0.0064298193126717269)\n",
      "(61, 0.0054116778089734387)\n",
      "(62, 0.0042860131928155317)\n",
      "(63, 0.0036128304051366031)\n",
      "(64, 0.0029548291465127164)\n",
      "(65, 0.0024268276642879804)\n",
      "(66, 0.0019625373427244377)\n",
      "(67, 0.0017109628790418609)\n",
      "(68, 0.0012904137619555299)\n",
      "(69, 0.0011088853913292316)\n",
      "(70, 0.00096980061733544691)\n",
      "(71, 0.00077349824760086013)\n",
      "(72, 0.00049993056519927789)\n",
      "(73, 0.00050668267613609758)\n",
      "(74, 0.00037874812337149719)\n",
      "(75, 0.0002759001241550559)\n",
      "(76, 0.00029989109218231272)\n",
      "(77, 0.00019409605471225263)\n",
      "(78, 0.00019603158558922804)\n",
      "(79, 9.3004098823498138e-05)\n",
      "(80, 0.00010865549688158725)\n",
      "(81, 0.00010212578754693858)\n",
      "(82, 8.555930115162821e-05)\n",
      "(83, 4.6250474067359193e-05)\n",
      "(84, 2.0435271278226218e-05)\n",
      "(85, 2.2298532756544618e-05)\n",
      "(86, 6.0963714397190783e-05)\n",
      "(87, 1.3430029546065002e-05)\n",
      "(88, 0.0)\n",
      "(89, 1.6148045279118961e-05)\n",
      "(90, 1.7775249742258878e-05)\n",
      "(91, 0.0)\n",
      "(92, 0.0)\n",
      "(93, 2.4020561600730225e-05)\n",
      "(94, 2.6602112207709291e-05)\n",
      "(95, 0.0)\n",
      "(96, 3.3488496701383076e-05)\n",
      "(97, 0.0)\n",
      "(98, 4.1260934147549097e-05)\n",
      "(99, 0.0)\n"
     ]
    }
   ],
   "source": [
    "mu_grandes = np.arange(mu1,100,1)\n",
    "for mu in mu_grandes:\n",
    "    ct = poisson.rvs(mu, size=num_muestras) #simulamos\n",
    "    c0 = poisson.rvs(mu0, size=num_muestras)    \n",
    "    R = np.array(ct, dtype=float)/np.array(c0,dtype=float)\n",
    "    mask = (R != np.float('+inf'))\n",
    "    R = R[mask]\n",
    "    bines = np.linspace(0,4,300)\n",
    "    numero, bins = np.histogram(R, bins = bines)\n",
    "    numero = numero / (np.diff(bins) * np.sum(numero)) #normalizo el area\n",
    "    #esperanza = esp(bines, numero)\n",
    "    lado01 = lado_izq(R_medido, bines, numero, bins)\n",
    "    print(mu, lado01)"
   ]
  },
  {
   "cell_type": "markdown",
   "metadata": {},
   "source": [
    "$\\mu_{max} \\approx 40$"
   ]
  },
  {
   "cell_type": "markdown",
   "metadata": {},
   "source": [
    "Ahora faltaría traducir estos valores de $\\mu$ correspondientes al conteo de $^{14}C(t)$ en valores máx y mín de $R_{14}$, y después mulitplicar por $1/\\tau$ y tomar logaritmo, para obtener $a$ y $b$."
   ]
  },
  {
   "cell_type": "code",
   "execution_count": null,
   "metadata": {
    "collapsed": true
   },
   "outputs": [],
   "source": []
  }
 ],
 "metadata": {
  "kernelspec": {
   "display_name": "Python 2",
   "language": "python",
   "name": "python2"
  },
  "language_info": {
   "codemirror_mode": {
    "name": "ipython",
    "version": 2
   },
   "file_extension": ".py",
   "mimetype": "text/x-python",
   "name": "python",
   "nbconvert_exporter": "python",
   "pygments_lexer": "ipython2",
   "version": "2.7.11"
  }
 },
 "nbformat": 4,
 "nbformat_minor": 0
}
